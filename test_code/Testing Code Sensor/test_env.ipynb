{
 "cells": [
  {
   "cell_type": "code",
   "execution_count": 1,
   "metadata": {},
   "outputs": [],
   "source": [
    "#import serial_loop_gyro_tof as serial_test\n",
    "import serial_loop_gyro_tof as serial_test"
   ]
  },
  {
   "cell_type": "code",
   "execution_count": 2,
   "metadata": {},
   "outputs": [],
   "source": [
    "serializer = serial_test.Serializer_GT()"
   ]
  },
  {
   "cell_type": "code",
   "execution_count": 1,
   "metadata": {},
   "outputs": [
    {
     "ename": "NameError",
     "evalue": "name 'serializer' is not defined",
     "output_type": "error",
     "traceback": [
      "\u001b[1;31m---------------------------------------------------------------------------\u001b[0m",
      "\u001b[1;31mNameError\u001b[0m                                 Traceback (most recent call last)",
      "\u001b[1;32mc:\\Users\\Yide Tao\\OneDrive - Monash University\\Unit Materials\\Year 4\\ECE4191\\Weekly Notes\\Week 8\\test_env.ipynb Cell 3\u001b[0m line \u001b[0;36m1\n\u001b[1;32m----> <a href='vscode-notebook-cell:/c%3A/Users/Yide%20Tao/OneDrive%20-%20Monash%20University/Unit%20Materials/Year%204/ECE4191/Weekly%20Notes/Week%208/test_env.ipynb#W2sZmlsZQ%3D%3D?line=0'>1</a>\u001b[0m serializer\u001b[39m.\u001b[39mactivate()\n",
      "\u001b[1;31mNameError\u001b[0m: name 'serializer' is not defined"
     ]
    }
   ],
   "source": [
    "serializer.activate()"
   ]
  },
  {
   "cell_type": "code",
   "execution_count": 20,
   "metadata": {},
   "outputs": [
    {
     "name": "stdout",
     "output_type": "stream",
     "text": [
      "Serial read: Pico Sensor: [4040.00, 292.00, 4040.00, 4040.00, 4040.00, 4040.00, 4040.00, 618.00]\n",
      "Serial read: \n",
      "Serial read: Pico Sensor: [4040.00, 282.00, 278.00, 576.00, 401.00, 4040.00, 0.00, 617.00]\n",
      "Serial read: Pico Sensor: [4040.00, 310.00, 278.00, 592.00, 405.00, 4040.00, 4040.00, 616.00]\n",
      "Serial read: \n",
      "Serial read: Pico Sensor: [4040.00, 308.00, 281.00, 588.00, 405.00, 4040.00, 0.00, 619.00]\n",
      "Serial read: \n",
      "Serial read: Pico Sensor: [4040.00, 4040.00, 282.00, 576.00, 412.00, 4040.00, 4040.00, 620.00]\n",
      "Serial read: \n",
      "Serial read: Pico Sensor: [4040.00, 324.00, 280.00, 585.00, 404.00, 4040.00, 0.00, 616.00]\n"
     ]
    }
   ],
   "source": [
    "serializer.read_tof()"
   ]
  },
  {
   "cell_type": "code",
   "execution_count": 86,
   "metadata": {},
   "outputs": [
    {
     "name": "stdout",
     "output_type": "stream",
     "text": [
      "Serial read: Pico Sensor: [4040.00, 497.00, 262.00, 609.00, 400.00, 4040.00, 4040.00, 618.00]\n",
      "Serial read: Pico Angle: [359.43, 0.78]\n"
     ]
    }
   ],
   "source": [
    "serializer.read_ang()"
   ]
  },
  {
   "cell_type": "code",
   "execution_count": 87,
   "metadata": {},
   "outputs": [
    {
     "name": "stdout",
     "output_type": "stream",
     "text": [
      "618.0\n"
     ]
    }
   ],
   "source": [
    "print(serializer.sensor_data.sensor_arr[7])"
   ]
  },
  {
   "cell_type": "code",
   "execution_count": 18,
   "metadata": {},
   "outputs": [],
   "source": [
    "serializer.close()"
   ]
  }
 ],
 "metadata": {
  "kernelspec": {
   "display_name": "base",
   "language": "python",
   "name": "python3"
  },
  "language_info": {
   "codemirror_mode": {
    "name": "ipython",
    "version": 3
   },
   "file_extension": ".py",
   "mimetype": "text/x-python",
   "name": "python",
   "nbconvert_exporter": "python",
   "pygments_lexer": "ipython3",
   "version": "3.11.5"
  },
  "orig_nbformat": 4
 },
 "nbformat": 4,
 "nbformat_minor": 2
}
